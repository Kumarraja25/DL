{
  "nbformat": 4,
  "nbformat_minor": 0,
  "metadata": {
    "colab": {
      "provenance": [],
      "authorship_tag": "ABX9TyM2dMWQzceWtbs8dbxttWd8",
      "include_colab_link": true
    },
    "kernelspec": {
      "name": "python3",
      "display_name": "Python 3"
    },
    "language_info": {
      "name": "python"
    }
  },
  "cells": [
    {
      "cell_type": "markdown",
      "metadata": {
        "id": "view-in-github",
        "colab_type": "text"
      },
      "source": [
        "<a href=\"https://colab.research.google.com/github/Kumarraja25/DL/blob/main/CNN_12_07_24.ipynb\" target=\"_parent\"><img src=\"https://colab.research.google.com/assets/colab-badge.svg\" alt=\"Open In Colab\"/></a>"
      ]
    },
    {
      "cell_type": "code",
      "execution_count": 7,
      "metadata": {
        "id": "dA-0ztzzrS0V"
      },
      "outputs": [],
      "source": [
        "import tensorflow as tf\n",
        "from tensorflow import keras\n",
        "from tensorflow.keras import Sequential\n",
        "from tensorflow.keras.layers import Dense,Conv2D,Flatten,MaxPooling2D\n",
        "import seaborn as sns\n",
        "import matplotlib.pyplot as plt"
      ]
    },
    {
      "cell_type": "markdown",
      "source": [
        "## load the dataset"
      ],
      "metadata": {
        "id": "7VGfdQNy7dIG"
      }
    },
    {
      "cell_type": "code",
      "source": [
        "(x_train,y_train),(x_test,y_test)=keras.datasets.mnist.load_data()"
      ],
      "metadata": {
        "colab": {
          "base_uri": "https://localhost:8080/"
        },
        "id": "A9CrD5jP7a0Q",
        "outputId": "87a12a3d-f3ef-4f41-9fdc-5b93275b03ed"
      },
      "execution_count": 2,
      "outputs": [
        {
          "output_type": "stream",
          "name": "stdout",
          "text": [
            "Downloading data from https://storage.googleapis.com/tensorflow/tf-keras-datasets/mnist.npz\n",
            "11490434/11490434 [==============================] - 0s 0us/step\n"
          ]
        }
      ]
    },
    {
      "cell_type": "code",
      "source": [
        "print(x_train.shape)\n",
        "print(y_train.shape)\n",
        "print(x_test.shape)\n",
        "print(y_test.shape)"
      ],
      "metadata": {
        "colab": {
          "base_uri": "https://localhost:8080/"
        },
        "id": "Sd9fu4Ur7xOk",
        "outputId": "f25d51f0-a3bc-41af-c614-6d371daefa5f"
      },
      "execution_count": 3,
      "outputs": [
        {
          "output_type": "stream",
          "name": "stdout",
          "text": [
            "(60000, 28, 28)\n",
            "(60000,)\n",
            "(10000, 28, 28)\n",
            "(10000,)\n"
          ]
        }
      ]
    },
    {
      "cell_type": "code",
      "source": [
        "print(y_train[0])\n",
        "plt.imshow(x_train[0])"
      ],
      "metadata": {
        "colab": {
          "base_uri": "https://localhost:8080/",
          "height": 465
        },
        "id": "FNQ25nOE8IfL",
        "outputId": "37c5ee53-4a04-47ac-8745-7de1e7da05d3"
      },
      "execution_count": 5,
      "outputs": [
        {
          "output_type": "stream",
          "name": "stdout",
          "text": [
            "5\n"
          ]
        },
        {
          "output_type": "execute_result",
          "data": {
            "text/plain": [
              "<matplotlib.image.AxesImage at 0x7f80f43ff6d0>"
            ]
          },
          "metadata": {},
          "execution_count": 5
        },
        {
          "output_type": "display_data",
          "data": {
            "text/plain": [
              "<Figure size 640x480 with 1 Axes>"
            ],
            "image/png": "[encoded data removed]"
          },
          "metadata": {}
        }
      ]
    },
    {
      "cell_type": "code",
      "source": [
        "x_train=x_train/255\n",
        "x_test=x_test/255"
      ],
      "metadata": {
        "id": "lPyG9MtD8QG9"
      },
      "execution_count": 6,
      "outputs": []
    },
    {
      "cell_type": "markdown",
      "source": [
        "## Create CNN Model\n"
      ],
      "metadata": {
        "id": "GJoTfDLW8oB4"
      }
    },
    {
      "cell_type": "code",
      "source": [
        "cnn=Sequential()\n",
        "cnn.add(Conv2D(30,(3,3),activation='relu',input_shape=(28,28,1)))\n",
        "cnn.add(MaxPooling2D(pool_size=(2,2),strides=1,padding='valid'))\n",
        "cnn.add(Conv2D(10,(3,3),activation='relu'))\n",
        "cnn.add(MaxPooling2D(pool_size=(2,2),strides=1,padding='valid'))\n",
        "cnn.add(Conv2D(5,(3,3),activation='relu'))\n",
        "cnn.add(MaxPooling2D(pool_size=(2,2),strides=1,padding='valid'))\n",
        "cnn.add(Flatten())\n",
        "cnn.add(Dense(100,activation='relu'))\n",
        "cnn.add(Dense(10,activation='softmax'))\n",
        "\n",
        "\n",
        "cnn.summary()"
      ],
      "metadata": {
        "colab": {
          "base_uri": "https://localhost:8080/"
        },
        "id": "B5-839XW8kZa",
        "outputId": "8af022fb-6227-4ca1-9e33-ce41df41f303"
      },
      "execution_count": 10,
      "outputs": [
        {
          "output_type": "stream",
          "name": "stdout",
          "text": [
            "Model: \"sequential_2\"\n",
            "_________________________________________________________________\n",
            " Layer (type)                Output Shape              Param #   \n",
            "=================================================================\n",
            " conv2d_3 (Conv2D)           (None, 26, 26, 30)        300       \n",
            "                                                                 \n",
            " max_pooling2d_1 (MaxPoolin  (None, 25, 25, 30)        0         \n",
            " g2D)                                                            \n",
            "                                                                 \n",
            " conv2d_4 (Conv2D)           (None, 23, 23, 10)        2710      \n",
            "                                                                 \n",
            " max_pooling2d_2 (MaxPoolin  (None, 22, 22, 10)        0         \n",
            " g2D)                                                            \n",
            "                                                                 \n",
            " conv2d_5 (Conv2D)           (None, 20, 20, 5)         455       \n",
            "                                                                 \n",
            " max_pooling2d_3 (MaxPoolin  (None, 19, 19, 5)         0         \n",
            " g2D)                                                            \n",
            "                                                                 \n",
            " flatten (Flatten)           (None, 1805)              0         \n",
            "                                                                 \n",
            " dense (Dense)               (None, 100)               180600    \n",
            "                                                                 \n",
            " dense_1 (Dense)             (None, 10)                1010      \n",
            "                                                                 \n",
            "=================================================================\n",
            "Total params: 185075 (722.95 KB)\n",
            "Trainable params: 185075 (722.95 KB)\n",
            "Non-trainable params: 0 (0.00 Byte)\n",
            "_________________________________________________________________\n"
          ]
        }
      ]
    },
    {
      "cell_type": "markdown",
      "source": [
        "## Compile the model"
      ],
      "metadata": {
        "id": "pgGgaEj0ActV"
      }
    },
    {
      "cell_type": "code",
      "source": [
        "cnn.compile(optimizer='adam',loss='sparse_categorical_crossentropy',metrics=['accuracy'])"
      ],
      "metadata": {
        "id": "PVDdfZ4UABOD"
      },
      "execution_count": 15,
      "outputs": []
    },
    {
      "cell_type": "markdown",
      "source": [
        "## Train the model"
      ],
      "metadata": {
        "id": "qCqiFx1nBGK4"
      }
    },
    {
      "cell_type": "markdown",
      "source": [],
      "metadata": {
        "id": "72AnKWdrDpqi"
      }
    },
    {
      "cell_type": "code",
      "source": [
        "cnn.fit(x_train,y_train,epochs=10)\n"
      ],
      "metadata": {
        "id": "7tcCCMT2DqK6",
        "outputId": "b3f14826-a3f9-4eee-82eb-1afd7bb3e912",
        "colab": {
          "base_uri": "https://localhost:8080/"
        }
      },
      "execution_count": 18,
      "outputs": [
        {
          "output_type": "stream",
          "name": "stdout",
          "text": [
            "Epoch 1/10\n",
            "1875/1875 [==============================] - 127s 68ms/step - loss: 0.0381 - accuracy: 0.9874\n",
            "Epoch 2/10\n",
            "1875/1875 [==============================] - 128s 68ms/step - loss: 0.0223 - accuracy: 0.9929\n",
            "Epoch 3/10\n",
            "1875/1875 [==============================] - 126s 67ms/step - loss: 0.0186 - accuracy: 0.9942\n",
            "Epoch 4/10\n",
            "1875/1875 [==============================] - 126s 67ms/step - loss: 0.0146 - accuracy: 0.9951\n",
            "Epoch 5/10\n",
            "1875/1875 [==============================] - 128s 68ms/step - loss: 0.0148 - accuracy: 0.9953\n",
            "Epoch 6/10\n",
            "1875/1875 [==============================] - 126s 67ms/step - loss: 0.0112 - accuracy: 0.9961\n",
            "Epoch 7/10\n",
            "1875/1875 [==============================] - 127s 68ms/step - loss: 0.0117 - accuracy: 0.9959\n",
            "Epoch 8/10\n",
            "1875/1875 [==============================] - 125s 67ms/step - loss: 0.0081 - accuracy: 0.9974\n",
            "Epoch 9/10\n",
            "1875/1875 [==============================] - 125s 67ms/step - loss: 0.0092 - accuracy: 0.9969\n",
            "Epoch 10/10\n",
            "1875/1875 [==============================] - 124s 66ms/step - loss: 0.0080 - accuracy: 0.9972\n"
          ]
        },
        {
          "output_type": "execute_result",
          "data": {
            "text/plain": [
              "<keras.src.callbacks.History at 0x7f80d06f7e80>"
            ]
          },
          "metadata": {},
          "execution_count": 18
        }
      ]
    },
    {
      "cell_type": "code",
      "source": [],
      "metadata": {
        "id": "428tEH5EDrW8"
      },
      "execution_count": null,
      "outputs": []
    },
    {
      "cell_type": "markdown",
      "source": [
        "## Evaluate the model"
      ],
      "metadata": {
        "id": "hrzXJSdxBKWW"
      }
    },
    {
      "cell_type": "code",
      "source": [
        "score=cnn.evaluate(x_test,y_test)\n",
        "print('loss =',score[0])\n",
        "print('accuracy',score[1])"
      ],
      "metadata": {
        "colab": {
          "base_uri": "https://localhost:8080/"
        },
        "id": "xJpjiRd3BNY1",
        "outputId": "11899080-dd4a-41f3-9c7f-28b028c44bb1"
      },
      "execution_count": 19,
      "outputs": [
        {
          "output_type": "stream",
          "name": "stdout",
          "text": [
            "313/313 [==============================] - 5s 16ms/step - loss: 0.0452 - accuracy: 0.9895\n",
            "loss = 0.045231256633996964\n",
            "accuracy 0.9894999861717224\n"
          ]
        }
      ]
    },
    {
      "cell_type": "markdown",
      "source": [
        "## Predict the classes"
      ],
      "metadata": {
        "id": "6xLFQukGKhJN"
      }
    },
    {
      "cell_type": "code",
      "source": [
        "pred_classes=cnn.predict(x_test)\n",
        "print(pred_classes)\n",
        "pred_classes.shape"
      ],
      "metadata": {
        "colab": {
          "base_uri": "https://localhost:8080/"
        },
        "id": "Wv_m_qJ8Kgql",
        "outputId": "f623dee0-ae76-498b-df93-5825beaea6ff"
      },
      "execution_count": 22,
      "outputs": [
        {
          "output_type": "stream",
          "name": "stdout",
          "text": [
            "313/313 [==============================] - 6s 20ms/step\n",
            "[[1.1589342e-19 6.7230140e-15 4.2914447e-14 ... 9.9999994e-01\n",
            "  2.0143963e-18 6.7960833e-13]\n",
            " [4.8316832e-12 6.6001790e-14 9.9999994e-01 ... 2.7120837e-18\n",
            "  1.3340893e-17 4.7183586e-21]\n",
            " [1.5163130e-16 9.9999958e-01 2.1112855e-11 ... 2.0870338e-08\n",
            "  3.3200050e-07 3.0422345e-11]\n",
            " ...\n",
            " [2.6083140e-26 3.7777287e-14 3.6960056e-19 ... 1.4661731e-12\n",
            "  6.5609380e-12 7.8324115e-13]\n",
            " [1.7420217e-12 1.6382734e-16 4.0641419e-20 ... 4.0720294e-18\n",
            "  8.7813887e-06 7.2886846e-15]\n",
            " [3.6117370e-12 4.5251422e-19 1.5130438e-15 ... 9.7092038e-24\n",
            "  1.4667008e-13 2.1504208e-14]]\n"
          ]
        },
        {
          "output_type": "execute_result",
          "data": {
            "text/plain": [
              "(10000, 10)"
            ]
          },
          "metadata": {},
          "execution_count": 22
        }
      ]
    },
    {
      "cell_type": "code",
      "source": [
        "import numpy as np\n",
        "y_predicted_labels=[np.argmax(i) for i in pred_classes]\n",
        "y_predicted_labels[:10]\n"
      ],
      "metadata": {
        "colab": {
          "base_uri": "https://localhost:8080/"
        },
        "id": "p8-gNDAiLiWR",
        "outputId": "b53f7d8e-4399-4ee7-a4ef-22b44c5b88de"
      },
      "execution_count": 25,
      "outputs": [
        {
          "output_type": "execute_result",
          "data": {
            "text/plain": [
              "[7, 2, 1, 0, 4, 1, 4, 9, 5, 9]"
            ]
          },
          "metadata": {},
          "execution_count": 25
        }
      ]
    },
    {
      "cell_type": "code",
      "source": [
        "for i in range(10):\n",
        "  plt.subplot(2,5,i+1)\n",
        "  plt.imshow(x_test[i],cmap='gray')\n",
        "  plt.title(y_test[i])\n",
        "  plt.axis('off')\n",
        "plt.show()"
      ],
      "metadata": {
        "colab": {
          "base_uri": "https://localhost:8080/",
          "height": 346
        },
        "id": "fP0Ks9F6L4oh",
        "outputId": "fa7c3360-8cb6-49ff-ea7f-361d808d11a4"
      },
      "execution_count": 28,
      "outputs": [
        {
          "output_type": "display_data",
          "data": {
            "text/plain": [
              "<Figure size 640x480 with 10 Axes>"
            ],
            "image/png": "[encoded data removed]"
          },
          "metadata": {}
        }
      ]
    },
    {
      "cell_type": "code",
      "source": [
        "image_index=76\n",
        "plt.imshow(x_test[image_index].reshape(28,28),cmap='gray')\n",
        "pred=cnn.predict(x_test[image_index].reshape(1,28,28,1))\n",
        "print(pred.argmax())"
      ],
      "metadata": {
        "colab": {
          "base_uri": "https://localhost:8080/",
          "height": 465
        },
        "id": "_nk9wfYTMPOK",
        "outputId": "5f1d3e24-9f41-4611-c4f0-e47dbe732732"
      },
      "execution_count": 29,
      "outputs": [
        {
          "output_type": "stream",
          "name": "stdout",
          "text": [
            "1/1 [==============================] - 0s 110ms/step\n",
            "3\n"
          ]
        },
        {
          "output_type": "display_data",
          "data": {
            "text/plain": [
              "<Figure size 640x480 with 1 Axes>"
            ],
            "image/png": "[encoded data removed]"
          },
          "metadata": {}
        }
      ]
    },
    {
      "cell_type": "markdown",
      "source": [
        "## Confusion Matrix"
      ],
      "metadata": {
        "id": "ZDvjEoBEODsJ"
      }
    },
    {
      "cell_type": "code",
      "source": [
        "cm=tf.math.confusion_matrix(y_test,y_predicted_labels)\n",
        "sns.heatmap(cm, annot=True, fmt='d')\n",
        "plt.xlabel('Predicted')\n",
        "plt.ylabel('Truth')"
      ],
      "metadata": {
        "colab": {
          "base_uri": "https://localhost:8080/",
          "height": 466
        },
        "id": "KxA2_9bbOBhi",
        "outputId": "470147e7-0b1b-4487-908f-a2e561a97532"
      },
      "execution_count": 32,
      "outputs": [
        {
          "output_type": "execute_result",
          "data": {
            "text/plain": [
              "Text(50.722222222222214, 0.5, 'Truth')"
            ]
          },
          "metadata": {},
          "execution_count": 32
        },
        {
          "output_type": "display_data",
          "data": {
            "text/plain": [
              "<Figure size 640x480 with 2 Axes>"
            ],
            "image/png": "[encoded data removed]"
          },
          "metadata": {}
        }
      ]
    },
    {
      "cell_type": "code",
      "source": [],
      "metadata": {
        "id": "Dhx2lryAOY5y"
      },
      "execution_count": null,
      "outputs": []
    }
  ]
}